{
  "nbformat": 4,
  "nbformat_minor": 0,
  "metadata": {
    "colab": {
      "provenance": [],
      "collapsed_sections": [],
      "authorship_tag": "ABX9TyOQWb32QWFnLqvJxM38S9p8",
      "include_colab_link": true
    },
    "kernelspec": {
      "name": "python3",
      "display_name": "Python 3"
    },
    "language_info": {
      "name": "python"
    }
  },
  "cells": [
    {
      "cell_type": "markdown",
      "metadata": {
        "id": "view-in-github",
        "colab_type": "text"
      },
      "source": [
        "<a href=\"https://colab.research.google.com/github/xtbtds/ml-zoomcamp/blob/main/lesson7_2.ipynb\" target=\"_parent\"><img src=\"https://colab.research.google.com/assets/colab-badge.svg\" alt=\"Open In Colab\"/></a>"
      ]
    },
    {
      "cell_type": "markdown",
      "source": [
        "### Bento ML makes it easy to create and package your ML service for production."
      ],
      "metadata": {
        "id": "DX3QdZ9wpGCE"
      }
    },
    {
      "cell_type": "markdown",
      "source": [
        "# 7.2 Building Your Prediction Service with BentoML\n",
        "- Create a directory and install bentoml:  \n",
        "`pip install bentoml`  \n",
        "- Then save the model that you've created earlier (here we will use xgboost model):\n",
        "```\n",
        "import bentoml\n",
        "bento.xgboost.save_model(\"credit_risk_model\", model)\n",
        "```\n",
        "You'll see **tag** and **path** where the model is saved.\n",
        "- Create a service:\n",
        "\n",
        "\n"
      ],
      "metadata": {
        "id": "kskG-ifzqteQ"
      }
    },
    {
      "cell_type": "code",
      "source": [
        "import bentoml\n",
        "from bentoml.io import JSON\n",
        "\n",
        "model_ref = bentoml.xgboost.get(\"credit_risk_model:oyfd25cj3oijqdu5\")\n",
        "\n",
        "model_runner = model_ref.to_runner()    #scale the model separately from the rest of the service\n",
        "\n",
        "svc = bentoml.Service(\"credit_risk_classifier\", runners=[model_runner])\n",
        "\n",
        "@svc.api(input=JSON(), output=JSON())\n",
        "def classify(application_data):\n",
        "    prediction = model_runner.predict.run(application_data)\n",
        "    return { \"status\": \"APPROVED\" }"
      ],
      "metadata": {
        "id": "_7fbTrYGBZx5"
      },
      "execution_count": null,
      "outputs": []
    },
    {
      "cell_type": "markdown",
      "source": [
        "- Run service:  \n",
        "`bentoml serve service.py:svc`\n",
        "- Follow provided local link and you'll see automatically generated **Swagger UI**\n",
        "- Paste some data and execute - you'll see an error Not Supported Type. That's because we've given the model clear data, without transforming by DictVectorizer. Change model saving in step 2:\n",
        "```\n",
        "bento.xgboost.save_model(\"credit_risk_model\", model,\n",
        "                          custom_objects={\n",
        "                              \"dictVectorizer\": dv\n",
        "                          })\n",
        "```\n",
        "- Then edit `service.py`:"
      ],
      "metadata": {
        "id": "l4bMYqq4CjwJ"
      }
    },
    {
      "cell_type": "code",
      "source": [
        "...  \n",
        "dv = model_ref.custom_objects['dictVectorizer']  \n",
        "...\n",
        "\n",
        "@svc.api(input=JSON(), output=JSON())\n",
        "def classify(application_data):\n",
        "    vector = dv.transform(vector)\n",
        "..."
      ],
      "metadata": {
        "id": "rRnJsMzlEbdE"
      },
      "execution_count": null,
      "outputs": []
    },
    {
      "cell_type": "markdown",
      "source": [
        "- To start server automatically after making changes:  \n",
        "`bentoml serve service.py:svc --reload`\n",
        "- Edit the model's answer depending on its prediction:"
      ],
      "metadata": {
        "id": "0zfl2TbREtHA"
      }
    },
    {
      "cell_type": "code",
      "source": [
        "# in function Classify:\n",
        "print(prediction)\n",
        "result = prediction[0]\n",
        "\n",
        "if result > 0.5:\n",
        "    return {\n",
        "        \"status\": \"DECLINED\"\n",
        "    }\n",
        "elif result > 0.25:\n",
        "    return {\n",
        "        \"status\": \"MAYBE\"\n",
        "    }\n",
        "else:\n",
        "    return {\n",
        "        \"status\": \"APPROVED\"\n",
        "    }"
      ],
      "metadata": {
        "id": "GOHTgmJ4FOAl"
      },
      "execution_count": null,
      "outputs": []
    },
    {
      "cell_type": "markdown",
      "source": [],
      "metadata": {
        "id": "UCwQSQaFFfHB"
      }
    }
  ]
}