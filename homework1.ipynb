{
 "cells": [
  {
   "cell_type": "code",
   "execution_count": 31,
   "id": "66364d58",
   "metadata": {},
   "outputs": [],
   "source": [
    "import numpy as np\n",
    "from matplotlib import pyplot as plt\n",
    "%matplotlib inline\n",
    "import seaborn as sns\n",
    "import pandas as pd\n",
    "import sklearn as sl"
   ]
  },
  {
   "cell_type": "code",
   "execution_count": 32,
   "id": "9cae6c5d",
   "metadata": {},
   "outputs": [
    {
     "name": "stdout",
     "output_type": "stream",
     "text": [
      "--2022-09-11 15:18:18--  https://raw.githubusercontent.com/alexeygrigorev/mlbookcamp-code/master/chapter-02-car-price/data.csv\n",
      "Resolving raw.githubusercontent.com (raw.githubusercontent.com)... 185.199.108.133, 185.199.110.133, 185.199.111.133, ...\n",
      "Connecting to raw.githubusercontent.com (raw.githubusercontent.com)|185.199.108.133|:443... connected.\n",
      "HTTP request sent, awaiting response... 200 OK\n",
      "Length: 1475504 (1,4M) [text/plain]\n",
      "Saving to: ‘data.csv.2’\n",
      "\n",
      "data.csv.2          100%[===================>]   1,41M  5,85MB/s    in 0,2s    \n",
      "\n",
      "2022-09-11 15:18:19 (5,85 MB/s) - ‘data.csv.2’ saved [1475504/1475504]\n",
      "\n"
     ]
    }
   ],
   "source": [
    "!wget https://raw.githubusercontent.com/alexeygrigorev/mlbookcamp-code/master/chapter-02-car-price/data.csv"
   ]
  },
  {
   "cell_type": "code",
   "execution_count": 33,
   "id": "42927652",
   "metadata": {},
   "outputs": [
    {
     "data": {
      "text/plain": [
       "'1.21.5'"
      ]
     },
     "execution_count": 33,
     "metadata": {},
     "output_type": "execute_result"
    }
   ],
   "source": [
    "#QUESTION 1\n",
    "np.__version__"
   ]
  },
  {
   "cell_type": "code",
   "execution_count": 34,
   "id": "15604c10",
   "metadata": {},
   "outputs": [
    {
     "data": {
      "text/plain": [
       "11914"
      ]
     },
     "execution_count": 34,
     "metadata": {},
     "output_type": "execute_result"
    }
   ],
   "source": [
    "#QUESTION 2\n",
    "df = pd.read_csv('data.csv')\n",
    "df.shape[0]"
   ]
  },
  {
   "cell_type": "code",
   "execution_count": 35,
   "id": "1e5cf169",
   "metadata": {},
   "outputs": [
    {
     "data": {
      "text/plain": [
       "Chevrolet     1123\n",
       "Ford           881\n",
       "Volkswagen     809\n",
       "Name: Make, dtype: int64"
      ]
     },
     "execution_count": 35,
     "metadata": {},
     "output_type": "execute_result"
    }
   ],
   "source": [
    "#QUESTION 3\n",
    "df['Make'].value_counts()[[0,1,2]]"
   ]
  },
  {
   "cell_type": "code",
   "execution_count": 38,
   "id": "cdfd52f9",
   "metadata": {},
   "outputs": [
    {
     "data": {
      "text/plain": [
       "34"
      ]
     },
     "execution_count": 38,
     "metadata": {},
     "output_type": "execute_result"
    }
   ],
   "source": [
    "#QUESTION 4\n",
    "df[df['Make'] == 'Audi']['Model'].value_counts().shape[0]\n",
    "#or: df[df['Make'] == 'Audi']['Model'].drop_duplicates().shape[0]"
   ]
  },
  {
   "cell_type": "code",
   "execution_count": 8,
   "id": "a343eb20",
   "metadata": {},
   "outputs": [
    {
     "data": {
      "text/plain": [
       "5"
      ]
     },
     "execution_count": 8,
     "metadata": {},
     "output_type": "execute_result"
    }
   ],
   "source": [
    "#QUESTION 5\n",
    "df.shape[1] - df.dropna(axis=1).shape[1]"
   ]
  },
  {
   "cell_type": "code",
   "execution_count": 9,
   "id": "01110089",
   "metadata": {},
   "outputs": [
    {
     "name": "stdout",
     "output_type": "stream",
     "text": [
      "Old median: 6.0\n",
      "\n",
      "The most frequent: 4752\n",
      "\n",
      "New median: 6.0\n"
     ]
    }
   ],
   "source": [
    "#QUESTION 6\n",
    "print(\"Old median:\", df['Engine Cylinders'].median())  #6.0\n",
    "print(\"\\nThe most frequent:\", df['Engine Cylinders'].value_counts(dropna=False).iloc[0])\n",
    "dff = df['Engine Cylinders'].fillna(4.0)\n",
    "print(\"\\nNew median:\", dff.median())"
   ]
  },
  {
   "cell_type": "code",
   "execution_count": 30,
   "id": "7723d143",
   "metadata": {},
   "outputs": [
    {
     "data": {
      "text/plain": [
       "4.594944810094579"
      ]
     },
     "execution_count": 30,
     "metadata": {},
     "output_type": "execute_result"
    }
   ],
   "source": [
    "#QUESTION 7\n",
    "df_lotus = df[df['Make'] == 'Lotus']\n",
    "X = df_lotus[['Engine HP', 'Engine Cylinders']].drop_duplicates()\n",
    "XT = X.T\n",
    "XTX = np.dot(XT, X)\n",
    "XTX_inv = np.linalg.inv(XTX)\n",
    "y = [1100, 800, 750, 850, 1300, 1000, 1000, 1300, 800]\n",
    "w = np.dot(np.dot(XTX_inv, XT), y)\n",
    "w[0]"
   ]
  },
  {
   "cell_type": "code",
   "execution_count": null,
   "id": "8d911c19",
   "metadata": {},
   "outputs": [],
   "source": []
  }
 ],
 "metadata": {
  "kernelspec": {
   "display_name": "Python 3 (ipykernel)",
   "language": "python",
   "name": "python3"
  },
  "language_info": {
   "codemirror_mode": {
    "name": "ipython",
    "version": 3
   },
   "file_extension": ".py",
   "mimetype": "text/x-python",
   "name": "python",
   "nbconvert_exporter": "python",
   "pygments_lexer": "ipython3",
   "version": "3.9.12"
  }
 },
 "nbformat": 4,
 "nbformat_minor": 5
}
