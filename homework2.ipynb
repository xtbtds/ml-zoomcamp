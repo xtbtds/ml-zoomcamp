{
 "cells": [
  {
   "cell_type": "markdown",
   "id": "d56e9ab9",
   "metadata": {},
   "source": [
    "# Preparation"
   ]
  },
  {
   "cell_type": "code",
   "execution_count": 1,
   "id": "49693dc5",
   "metadata": {},
   "outputs": [
    {
     "name": "stdout",
     "output_type": "stream",
     "text": [
      "--2022-09-18 14:29:07--  https://raw.githubusercontent.com/alexeygrigorev/datasets/master/housing.csv\n",
      "Resolving raw.githubusercontent.com (raw.githubusercontent.com)... 185.199.108.133, 185.199.109.133, 185.199.110.133, ...\n",
      "Connecting to raw.githubusercontent.com (raw.githubusercontent.com)|185.199.108.133|:443... connected.\n",
      "HTTP request sent, awaiting response... 200 OK\n",
      "Length: 1423529 (1.4M) [text/plain]\n",
      "Saving to: ‘housing.csv.2’\n",
      "\n",
      "housing.csv.2       100%[===================>]   1.36M  --.-KB/s    in 0.01s   \n",
      "\n",
      "2022-09-18 14:29:07 (106 MB/s) - ‘housing.csv.2’ saved [1423529/1423529]\n",
      "\n"
     ]
    }
   ],
   "source": [
    "!wget 'https://raw.githubusercontent.com/alexeygrigorev/datasets/master/housing.csv'"
   ]
  },
  {
   "cell_type": "code",
   "execution_count": 79,
   "id": "97d687b4",
   "metadata": {},
   "outputs": [
    {
     "name": "stdout",
     "output_type": "stream",
     "text": [
      "(20640, 10)\n"
     ]
    }
   ],
   "source": [
    "import pandas as pd\n",
    "import numpy as np\n",
    "\n",
    "import seaborn as sns\n",
    "from matplotlib import pyplot as plt\n",
    "%matplotlib inline\n",
    "\n",
    "df = pd.read_csv('housing.csv')\n",
    "print(df.shape)"
   ]
  },
  {
   "cell_type": "code",
   "execution_count": 80,
   "id": "0b8f20cd",
   "metadata": {},
   "outputs": [
    {
     "data": {
      "image/png": "[encoded data removed]",
      "text/plain": [
       "<Figure size 432x288 with 1 Axes>"
      ]
     },
     "metadata": {
      "needs_background": "light"
     },
     "output_type": "display_data"
    }
   ],
   "source": [
    "plt.figure(figsize=(6, 4))\n",
    "\n",
    "sns.histplot(df.median_house_value, bins=40, color='black', alpha=1)\n",
    "# plt.ylabel('Frequency')\n",
    "# plt.xlabel('Price')\n",
    "# plt.title('Distribution of prices')\n",
    "\n",
    "plt.show()"
   ]
  },
  {
   "cell_type": "markdown",
   "id": "b25e8a1d",
   "metadata": {},
   "source": [
    "# Question 1"
   ]
  },
  {
   "cell_type": "code",
   "execution_count": 81,
   "id": "1afb2213",
   "metadata": {},
   "outputs": [
    {
     "data": {
      "text/plain": [
       "longitude               0\n",
       "latitude                0\n",
       "housing_median_age      0\n",
       "total_rooms             0\n",
       "total_bedrooms        207\n",
       "population              0\n",
       "households              0\n",
       "median_income           0\n",
       "median_house_value      0\n",
       "ocean_proximity         0\n",
       "dtype: int64"
      ]
     },
     "execution_count": 81,
     "metadata": {},
     "output_type": "execute_result"
    }
   ],
   "source": [
    "df.isnull().sum()  #total_bedrooms has null values"
   ]
  },
  {
   "cell_type": "markdown",
   "id": "175623c3",
   "metadata": {},
   "source": [
    "# Question 2"
   ]
  },
  {
   "cell_type": "code",
   "execution_count": 82,
   "id": "e2b3a8a7",
   "metadata": {},
   "outputs": [
    {
     "data": {
      "text/plain": [
       "1166.0"
      ]
     },
     "execution_count": 82,
     "metadata": {},
     "output_type": "execute_result"
    }
   ],
   "source": [
    "df['population'].quantile(q=0.5)"
   ]
  },
  {
   "cell_type": "markdown",
   "id": "fb86139c",
   "metadata": {},
   "source": [
    "# Split and shuffle"
   ]
  },
  {
   "cell_type": "code",
   "execution_count": 83,
   "id": "5868baa2",
   "metadata": {},
   "outputs": [],
   "source": [
    "#split into train/val/test\n",
    "np.random.seed(2)\n",
    "n = len(df)\n",
    "n_val = int(0.2 * n)\n",
    "n_test = int(0.2 * n)\n",
    "n_train = n - (n_val + n_test)\n",
    "#shuffle\n",
    "idx = np.arange(n)\n",
    "np.random.shuffle(idx)\n",
    "df_shuffled = df.iloc[idx]\n",
    "df_train = df_shuffled.iloc[:n_train].copy()\n",
    "df_val = df_shuffled.iloc[n_train:n_train+n_val].copy()\n",
    "df_test = df_shuffled.iloc[n_train+n_val:].copy()\n",
    "#make y column\n",
    "y_train_orig = df_train.median_house_value.values\n",
    "y_val_orig = df_val.median_house_value.values\n",
    "y_test_orig = df_test.median_house_value.values\n",
    "#apply the log transformation to the median_house_value \n",
    "y_train = np.log1p(df_train.median_house_value.values)\n",
    "y_val = np.log1p(df_val.median_house_value.values)\n",
    "y_test = np.log1p(df_test.median_house_value.values)\n",
    "#delete the target value ('median_house_value') \n",
    "del df_train['median_house_value']\n",
    "del df_val['median_house_value']\n",
    "del df_test['median_house_value']"
   ]
  },
  {
   "cell_type": "code",
   "execution_count": 84,
   "id": "5e8eca65",
   "metadata": {},
   "outputs": [
    {
     "name": "stdout",
     "output_type": "stream",
     "text": [
      "20640\n",
      "(12384, 9) (4128, 9) (4128, 9)\n",
      "(12384,) (4128,) (4128,)\n"
     ]
    }
   ],
   "source": [
    "print(n)\n",
    "print(df_train.shape, df_val.shape, df_test.shape)\n",
    "print(y_train.shape, y_val.shape, y_test.shape)"
   ]
  },
  {
   "cell_type": "markdown",
   "id": "969b3caf",
   "metadata": {},
   "source": [
    "# Question 3"
   ]
  },
  {
   "cell_type": "code",
   "execution_count": 85,
   "id": "5d3e1961",
   "metadata": {},
   "outputs": [],
   "source": [
    "base = ['longitude', 'latitude', 'housing_median_age', 'total_rooms',\n",
    "       'total_bedrooms', 'population', 'households', 'median_income']"
   ]
  },
  {
   "cell_type": "code",
   "execution_count": 86,
   "id": "db139e58",
   "metadata": {},
   "outputs": [],
   "source": [
    "def prepare_X(df, fillna_value):\n",
    "    df_num = df[base]\n",
    "    df_num = df_num.fillna(fillna_value)\n",
    "    X = df_num.values\n",
    "    return X"
   ]
  },
  {
   "cell_type": "code",
   "execution_count": 87,
   "id": "530b44f1",
   "metadata": {},
   "outputs": [],
   "source": [
    "#with 0\n",
    "X_train_0 = prepare_X(df_train, 0)\n",
    "\n",
    "#with mean\n",
    "mean = df_train['total_bedrooms'].mean()\n",
    "X_train_mean = prepare_X(df_train, mean)"
   ]
  },
  {
   "cell_type": "code",
   "execution_count": 88,
   "id": "cca12753",
   "metadata": {},
   "outputs": [],
   "source": [
    "def train_linear_regression(X, y):\n",
    "    ones = np.ones(X.shape[0])\n",
    "    X = np.column_stack([ones, X])\n",
    "\n",
    "    XTX = X.T.dot(X)\n",
    "    XTX_inv = np.linalg.inv(XTX)\n",
    "    w = XTX_inv.dot(X.T).dot(y)\n",
    "    \n",
    "    return w[0], w[1:]"
   ]
  },
  {
   "cell_type": "code",
   "execution_count": 89,
   "id": "ad20a67d",
   "metadata": {},
   "outputs": [],
   "source": [
    "#with 0\n",
    "w_0_0, w_0 = train_linear_regression(X_train_0, y_train)\n",
    "\n",
    "#with mean\n",
    "w_0_mean, w_mean = train_linear_regression(X_train_mean, y_train)"
   ]
  },
  {
   "cell_type": "code",
   "execution_count": 90,
   "id": "b2d5fbba",
   "metadata": {},
   "outputs": [],
   "source": [
    "#with 0\n",
    "y_pred_0 = w_0_0 + X_train_0.dot(w_0)\n",
    "\n",
    "#with mean\n",
    "y_pred_mean = w_0_mean + X_train_mean.dot(w_mean)"
   ]
  },
  {
   "cell_type": "code",
   "execution_count": 91,
   "id": "14b00c42",
   "metadata": {},
   "outputs": [],
   "source": [
    "def rmse(y, y_pred):\n",
    "    error = y_pred - y\n",
    "    mse = (error ** 2).mean()\n",
    "    return np.sqrt(mse)"
   ]
  },
  {
   "cell_type": "code",
   "execution_count": 92,
   "id": "b5224cc7",
   "metadata": {},
   "outputs": [],
   "source": [
    "X_mean_val = prepare_X(df_val, fillna_value=mean)\n",
    "y_mean_pred_val = w_0_mean + X_mean_val.dot(w_mean)"
   ]
  },
  {
   "cell_type": "code",
   "execution_count": 93,
   "id": "ac5c2f0c",
   "metadata": {},
   "outputs": [
    {
     "data": {
      "text/plain": [
       "0.33"
      ]
     },
     "execution_count": 93,
     "metadata": {},
     "output_type": "execute_result"
    }
   ],
   "source": [
    "np.round(rmse(y_val, y_mean_pred_val),2)"
   ]
  },
  {
   "cell_type": "code",
   "execution_count": 94,
   "id": "e4798de2",
   "metadata": {},
   "outputs": [],
   "source": [
    "X_null_val = prepare_X(df_val, fillna_value=0)\n",
    "y_null_pred_val = w_0_0 + X_null_val.dot(w_0)"
   ]
  },
  {
   "cell_type": "code",
   "execution_count": 95,
   "id": "43f4595d",
   "metadata": {},
   "outputs": [
    {
     "data": {
      "text/plain": [
       "0.33"
      ]
     },
     "execution_count": 95,
     "metadata": {},
     "output_type": "execute_result"
    }
   ],
   "source": [
    "np.round(rmse(y_val, y_null_pred_val),2)"
   ]
  },
  {
   "cell_type": "code",
   "execution_count": 96,
   "id": "00184283",
   "metadata": {},
   "outputs": [],
   "source": [
    "#ANSWER: BOTH ARE EQUAL"
   ]
  },
  {
   "cell_type": "markdown",
   "id": "0468b2e7",
   "metadata": {},
   "source": [
    "# Question 4"
   ]
  },
  {
   "cell_type": "code",
   "execution_count": 97,
   "id": "5fd9b552",
   "metadata": {},
   "outputs": [],
   "source": [
    "def train_linear_regression_reg(X, y, r=0.0):\n",
    "    ones = np.ones(X.shape[0])\n",
    "    X = np.column_stack([ones, X])\n",
    "\n",
    "    XTX = X.T.dot(X)\n",
    "    reg = r * np.eye(XTX.shape[0])\n",
    "    XTX = XTX + reg\n",
    "\n",
    "    XTX_inv = np.linalg.inv(XTX)\n",
    "    w = XTX_inv.dot(X.T).dot(y)\n",
    "    \n",
    "    return w[0], w[1:]"
   ]
  },
  {
   "cell_type": "code",
   "execution_count": 102,
   "id": "8b483a04",
   "metadata": {},
   "outputs": [
    {
     "name": "stdout",
     "output_type": "stream",
     "text": [
      "     0 0.332091232\n",
      " 1e-06 0.332091232\n",
      "0.0001 0.332091219\n",
      " 0.001 0.332091122\n",
      "  0.01 0.332092075\n",
      "   0.1 0.332251028\n",
      "     1 0.336059783\n",
      "     5 0.341261335\n",
      "    10 0.342575485\n"
     ]
    }
   ],
   "source": [
    "X_train = prepare_X(df_train, 0)\n",
    "X_val = prepare_X(df_val, 0)\n",
    "\n",
    "for r in [0, 0.000001, 0.0001, 0.001, 0.01, 0.1, 1, 5, 10]:\n",
    "    w_0, w = train_linear_regression_reg(X_train, y_train, r=r)\n",
    "    y_pred = w_0 + X_val.dot(w)\n",
    "    rmse_val = np.round(rmse(y_val, y_pred),9)\n",
    "    print('%6s' %r, rmse_val)"
   ]
  },
  {
   "cell_type": "markdown",
   "id": "ec850707",
   "metadata": {},
   "source": [
    "### Answer\n",
    "Round to 2 digits is not enough, so I've selected 9 digits. The smallest error is with $r=0.001$"
   ]
  },
  {
   "cell_type": "markdown",
   "id": "163a550c",
   "metadata": {},
   "source": [
    "# Question 5"
   ]
  },
  {
   "cell_type": "code",
   "execution_count": 105,
   "id": "c4704e2b",
   "metadata": {},
   "outputs": [
    {
     "name": "stdout",
     "output_type": "stream",
     "text": [
      "10 -11.900382138199404 0.34\n",
      "10 -11.732757373218973 0.34\n",
      "10 -11.806729361118434 0.33\n",
      "10 -11.587900347752534 0.34\n",
      "10 -11.389470588135024 0.34\n",
      "10 -11.44711427625141 0.34\n",
      "10 -11.370516351650567 0.35\n",
      "10 -12.473448918239946 0.34\n",
      "10 -11.800287429404335 0.35\n",
      "10 -11.459046830733227 0.34\n"
     ]
    }
   ],
   "source": [
    "rmses = []\n",
    "\n",
    "for seed in [0, 1, 2, 3, 4, 5, 6, 7, 8, 9]:\n",
    "    np.random.seed(seed)\n",
    "    n = len(df)\n",
    "    n_val = int(0.2 * n)\n",
    "    n_test = int(0.2 * n)\n",
    "    n_train = n - (n_val + n_test)\n",
    "    #shuffle\n",
    "    idx = np.arange(n)\n",
    "    np.random.shuffle(idx)\n",
    "    df_shuffled = df.iloc[idx]\n",
    "    df_train = df_shuffled.iloc[:n_train].copy()\n",
    "    df_val = df_shuffled.iloc[n_train:n_train+n_val].copy()\n",
    "    df_test = df_shuffled.iloc[n_train+n_val:].copy()\n",
    "    #make y column\n",
    "    y_train_orig = df_train.median_house_value.values\n",
    "    y_val_orig = df_val.median_house_value.values\n",
    "    y_test_orig = df_test.median_house_value.values\n",
    "    #apply the log transformation to the median_house_value \n",
    "    y_train = np.log1p(df_train.median_house_value.values)\n",
    "    y_val = np.log1p(df_val.median_house_value.values)\n",
    "    y_test = np.log1p(df_test.median_house_value.values)\n",
    "    #delete the target value ('median_house_value') \n",
    "    del df_train['median_house_value']\n",
    "    del df_val['median_house_value']\n",
    "    del df_test['median_house_value']\n",
    "    \n",
    "    \n",
    "    #training with train\n",
    "    X_null_train = prepare_X(df_train, 0)\n",
    "    w_0, w = train_linear_regression(X_null_train, y_train)\n",
    "    \n",
    "    #validation with val\n",
    "    X_null_val = prepare_X(df_val, 0)\n",
    "    y_null_reg_val = w_0 + X_null_val.dot(w)\n",
    "    rmse_val = np.round(rmse(y_val, y_null_reg_val),2)\n",
    "    \n",
    "    rmse_list.append(rmse_val)\n",
    "    \n",
    "    print(r, w_0, rmse_val)"
   ]
  },
  {
   "cell_type": "code",
   "execution_count": 107,
   "id": "ae88478b",
   "metadata": {},
   "outputs": [
    {
     "data": {
      "text/plain": [
       "0.005"
      ]
     },
     "execution_count": 107,
     "metadata": {},
     "output_type": "execute_result"
    }
   ],
   "source": [
    "#ANSWER\n",
    "np.round(np.std(rmse_list),3)"
   ]
  },
  {
   "cell_type": "markdown",
   "id": "e9c65b39",
   "metadata": {},
   "source": [
    "# Question 6"
   ]
  },
  {
   "cell_type": "code",
   "execution_count": 111,
   "id": "f7d6725c",
   "metadata": {},
   "outputs": [],
   "source": [
    "#use seed=9\n",
    "\n",
    "np.random.seed(9)\n",
    "n = len(df)\n",
    "n_val = int(0.2 * n)\n",
    "n_test = int(0.2 * n)\n",
    "n_train = n - (n_val + n_test)\n",
    "#shuffle\n",
    "idx = np.arange(n)\n",
    "np.random.shuffle(idx)\n",
    "df_shuffled = df.iloc[idx]\n",
    "df_train = df_shuffled.iloc[:n_train].copy()\n",
    "df_val = df_shuffled.iloc[n_train:n_train+n_val].copy()\n",
    "df_test = df_shuffled.iloc[n_train+n_val:].copy()\n",
    "\n",
    "\n",
    "#concat train and val\n",
    "df_train_val = pd.concat([df_train, df_val])\n",
    "#make y column\n",
    "y_train_val_orig = df_train_val.median_house_value.values\n",
    "y_test_orig = df_test.median_house_value.values\n",
    "#apply the log transformation to the median_house_value\n",
    "y_train = np.log1p(y_train_val_orig)\n",
    "y_test = np.log1p(y_test_orig)\n",
    "#delete the target value ('median_house_value') \n",
    "del df_train_val['median_house_value']\n",
    "del df_test['median_house_value']"
   ]
  },
  {
   "cell_type": "code",
   "execution_count": 121,
   "id": "25496cd3",
   "metadata": {},
   "outputs": [
    {
     "data": {
      "text/plain": [
       "0.35"
      ]
     },
     "execution_count": 121,
     "metadata": {},
     "output_type": "execute_result"
    }
   ],
   "source": [
    "#nan = 0 for train and val\n",
    "X_train_val = prepare_X(df_train_val,0)\n",
    "#training\n",
    "w_0, w = train_linear_regression_reg(X_null_train_val, y_train_val, r=0.001)\n",
    "#nan = 0 for test\n",
    "X_test = prepare_X(df_test,0)\n",
    "#prediction\n",
    "y_pred_test = w_0 + X_test.dot(w)\n",
    "\n",
    "np.round(rmse(y_test, y_pred_test),2)"
   ]
  },
  {
   "cell_type": "markdown",
   "id": "a5f72fc0",
   "metadata": {},
   "source": [
    "### Answer: 0.35"
   ]
  },
  {
   "cell_type": "code",
   "execution_count": null,
   "id": "e4450cf2",
   "metadata": {},
   "outputs": [],
   "source": []
  }
 ],
 "metadata": {
  "kernelspec": {
   "display_name": "Python 3 (ipykernel)",
   "language": "python",
   "name": "python3"
  },
  "language_info": {
   "codemirror_mode": {
    "name": "ipython",
    "version": 3
   },
   "file_extension": ".py",
   "mimetype": "text/x-python",
   "name": "python",
   "nbconvert_exporter": "python",
   "pygments_lexer": "ipython3",
   "version": "3.9.12"
  }
 },
 "nbformat": 4,
 "nbformat_minor": 5
}
