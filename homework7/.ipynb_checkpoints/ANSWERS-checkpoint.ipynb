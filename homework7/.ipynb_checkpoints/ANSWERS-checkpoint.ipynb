{
 "cells": [
  {
   "cell_type": "markdown",
   "id": "d82e1f77",
   "metadata": {},
   "source": [
    "1. 1.0.7\n",
    "\n",
    "2. - `bentoml models list`   \n",
    " Answer: 197.77 KiB\n",
    "\n",
    "\n",
    "\n",
    "3. \n",
    "```\n",
    "class UserProfile(BaseModel):\n",
    "    name: str \n",
    "    age: int \n",
    "    country: str  \n",
    "    rating: float\n",
    "```\n",
    "4. - `cat ~/bentoml/models/mlzoomcamp_homework/qtzdz3slg6mwwdu5/model.yaml`  \n",
    "Answer: 1.1.1\n",
    "\n",
    "5.  *What did we change for this question:*\n",
    "    1. `model_ref = bentoml.sklearn.get(\"mlzoomcamp_homework:qtzdz3slg6mwwdu5\")`\n",
    "    2. `@svc.api(input=NumpyNdarray(), output=NumpyNdarray())`\n",
    "    3. `prediction = model_runner.predict.run(vector)  `\n",
    "\n",
    "    Answer: 1  \n",
    "\n",
    "6. *Test for 10000 users, 1000 user per second; look at notebook \"Question7_statistics\"*  \n",
    "    Answer: 1"
   ]
  },
  {
   "cell_type": "code",
   "execution_count": null,
   "id": "b6728f66",
   "metadata": {},
   "outputs": [],
   "source": []
  }
 ],
 "metadata": {
  "kernelspec": {
   "display_name": "Python 3 (ipykernel)",
   "language": "python",
   "name": "python3"
  },
  "language_info": {
   "codemirror_mode": {
    "name": "ipython",
    "version": 3
   },
   "file_extension": ".py",
   "mimetype": "text/x-python",
   "name": "python",
   "nbconvert_exporter": "python",
   "pygments_lexer": "ipython3",
   "version": "3.9.12"
  }
 },
 "nbformat": 4,
 "nbformat_minor": 5
}
